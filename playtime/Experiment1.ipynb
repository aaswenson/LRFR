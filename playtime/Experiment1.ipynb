{
 "metadata": {
  "name": ""
 },
 "nbformat": 3,
 "nbformat_minor": 0,
 "worksheets": [
  {
   "cells": [
    {
     "cell_type": "code",
     "collapsed": false,
     "input": [
      "from pyne import mcnp\n",
      "import pyne"
     ],
     "language": "python",
     "metadata": {},
     "outputs": [
      {
       "output_type": "stream",
       "stream": "stderr",
       "text": [
        "/home/ribenson/.local/lib/python2.7/site-packages/pyne/mcnp.py:27: QAWarning: pyne.data is not yet QA compliant.\n",
        "  from pyne.material import Material\n",
        "/home/ribenson/.local/lib/python2.7/site-packages/pyne/mcnp.py:27: QAWarning: pyne.material is not yet QA compliant.\n",
        "  from pyne.material import Material\n",
        "/home/ribenson/.local/lib/python2.7/site-packages/pyne/binaryreader.py:12: QAWarning: pyne.binaryreader is not yet QA compliant.\n",
        "  warn(__name__ + \" is not yet QA compliant.\", QAWarning)\n",
        "/home/ribenson/.local/lib/python2.7/site-packages/pyne/mcnp.py:32: QAWarning: pyne.mcnp is not yet QA compliant.\n",
        "  warn(__name__ + \" is not yet QA compliant.\", QAWarning)\n",
        "/home/ribenson/.local/lib/python2.7/site-packages/pyne/mesh.py:12: QAWarning: pyne.mesh is not yet QA compliant.\n",
        "  warn(__name__ + \" is not yet QA compliant.\", QAWarning)\n"
       ]
      }
     ],
     "prompt_number": 1
    },
    {
     "cell_type": "code",
     "collapsed": false,
     "input": [
      "file_mesht = 'crit4'"
     ],
     "language": "python",
     "metadata": {},
     "outputs": [],
     "prompt_number": 11
    },
    {
     "cell_type": "code",
     "collapsed": false,
     "input": [
      "x = mcnp.mat_from_inp_line(file_mesht,81,[-1.3])"
     ],
     "language": "python",
     "metadata": {},
     "outputs": [],
     "prompt_number": 14
    },
    {
     "cell_type": "code",
     "collapsed": false,
     "input": [
      "x"
     ],
     "language": "python",
     "metadata": {},
     "outputs": [
      {
       "metadata": {},
       "output_type": "pyout",
       "prompt_number": 15,
       "text": [
        "pyne.material.Material({10010000: 0.09196125492348863, 80160000: 0.77656468166824, 160320000: 0.015597588935801768, 922350000: 0.020066599758570117, 922380000: 0.09580987471389954}, 0.711996122132, 1.3, 0.100230304984, {\"mat_number\":\"1\",\"table_ids\":{\"10010\":\"80c\",\"160320\":\"80c\",\"80160\":\"80c\",\"922350\":\"80c\",\"922380\":\"80c\"}})"
       ]
      }
     ],
     "prompt_number": 15
    },
    {
     "cell_type": "code",
     "collapsed": false,
     "input": [
      "crit_materials = mcnp.mats_from_inp('crit4')"
     ],
     "language": "python",
     "metadata": {},
     "outputs": [],
     "prompt_number": 16
    },
    {
     "cell_type": "code",
     "collapsed": false,
     "input": [
      "crit_materials\n"
     ],
     "language": "python",
     "metadata": {},
     "outputs": [
      {
       "metadata": {},
       "output_type": "pyout",
       "prompt_number": 17,
       "text": [
        "{1: pyne.material.Material({10010000: 0.09196125492348863, 80160000: 0.77656468166824, 160320000: 0.015597588935801768, 922350000: 0.020066599758570117, 922380000: 0.09580987471389954}, 0.711996122132, 1.18229723139, 0.100230304984, {\"mat_number\":\"1\",\"table_ids\":{\"10010\":\"80c\",\"160320\":\"80c\",\"80160\":\"80c\",\"922350\":\"80c\",\"922380\":\"80c\"}}),\n",
        " 2: pyne.material.Material({10010000: 0.11191487328808077, 80160000: 0.8880851267119192}, 18.010564684, 1.00057670858, 3.0, {\"mat_number\":\"2\",\"table_ids\":{\"10010\":\"80c\",\"80160\":\"80c\"}}),\n",
        " 3: pyne.material.Material({60120000: 0.000124, 70140000: 0.75229, 70150000: 0.002977, 80160000: 0.231688, 80170000: 9.4e-05, 180400000: 0.012827}, -1.0, 0.001205, -1.0, {\"mat_number\":\"3\",\"table_ids\":{\"180400\":\"80c\",\"70140\":\"80c\",\"70150\":\"80c\",\"80160\":\"80c\",\"80170\":\"80c\"}}),\n",
        " 4: pyne.material.Material({922350000: 1.0}, 235.043930131, -1.0, 1.0, {\"mat_number\":\"4\",\"table_ids\":{\"922350\":\"80c\"}}),\n",
        " 5: pyne.material.Material({922380000: 1.0}, 238.050788423, -1.0, 1.0, {\"mat_number\":\"5\",\"table_ids\":{\"922380\":\"80c\"}}),\n",
        " 6: pyne.material.Material({10030000: 1.0}, 3.01604927791, 0.000104057, 1.0, {\"mat_number\":\"6\",\"table_ids\":{\"10030\":\"80c\"}}),\n",
        " 7: pyne.material.Material({400900000: 0.5070611756604112, 400910000: 0.11180887525919286, 400920000: 0.17278101569349708, 400940000: 0.17891104257559604, 400960000: 0.02943789081130281}, 91.223641576, 6.52, 1.0, {\"mat_number\":\"7\",\"table_ids\":{\"400900\":\"80c\",\"400910\":\"80c\",\"400920\":\"80c\",\"400940\":\"80c\",\"400960\":\"80c\"}})}"
       ]
      }
     ],
     "prompt_number": 17
    },
    {
     "cell_type": "code",
     "collapsed": false,
     "input": [
      "type(crit_materials)"
     ],
     "language": "python",
     "metadata": {},
     "outputs": [
      {
       "metadata": {},
       "output_type": "pyout",
       "prompt_number": 18,
       "text": [
        "dict"
       ]
      }
     ],
     "prompt_number": 18
    },
    {
     "cell_type": "code",
     "collapsed": false,
     "input": [
      "crit_materials[2]"
     ],
     "language": "python",
     "metadata": {},
     "outputs": [
      {
       "metadata": {},
       "output_type": "pyout",
       "prompt_number": 24,
       "text": [
        "pyne.material.Material({10010000: 0.11191487328808077, 80160000: 0.8880851267119192}, 18.010564684, 1.00057670858, 3.0, {\"mat_number\":\"2\",\"table_ids\":{\"10010\":\"80c\",\"80160\":\"80c\"}})"
       ]
      }
     ],
     "prompt_number": 24
    },
    {
     "cell_type": "code",
     "collapsed": false,
     "input": [],
     "language": "python",
     "metadata": {},
     "outputs": []
    }
   ],
   "metadata": {}
  }
 ]
}